{
 "cells": [
  {
   "cell_type": "code",
   "execution_count": 1,
   "metadata": {},
   "outputs": [],
   "source": [
    "import requests\n",
    "from bs4 import BeautifulSoup"
   ]
  },
  {
   "cell_type": "code",
   "execution_count": 29,
   "metadata": {},
   "outputs": [
    {
     "name": "stdout",
     "output_type": "stream",
     "text": [
      "https://www.dapurumami.com/resep/chicken-egg-roll-ala-aji-no-moto-Al26k\n",
      "https://www.dapurumami.com/resep/beef-yakiniku-ala-masako-g1Yst\n",
      "https://www.dapurumami.com/resep/pangsit-goreng-ala-aji-no-moto-HkePx\n",
      "https://www.dapurumami.com/resep/kulit-ayam-krispi-saus-telur-asin-ala-sajiku-Yg2XG\n",
      "https://www.dapurumami.com/resep/ikan-tongkol-bumbu-rujak-ala-aji-no-moto-K1IHD\n",
      "https://www.dapurumami.com/resep/jamur-crispy-asam-manis-ala-saori-gBjGm\n",
      "https://www.dapurumami.com/resep/nasi-kepal-korea-ala-sajiku-crAgE\n",
      "https://www.dapurumami.com/resep/salad-buah-mayo-ala-mayumi-Sb7lP\n",
      "https://www.dapurumami.com/resep/jamur-crispy-saus-thai-ala-sajiku-QBxKV\n",
      "https://www.dapurumami.com/resep/pangsit-kuah-masako-pds7E\n"
     ]
    }
   ],
   "source": [
    "# buat variabel url yang menyimpan link\n",
    "url = \"https://www.dapurumami.com/resep?show=10\"\n",
    "\n",
    "# load halaman berdasarkan url\n",
    "hasil_request = requests.get(url)\n",
    "# parsing halaman web\n",
    "soup = BeautifulSoup(hasil_request.text, \"html.parser\")\n",
    "# print(soup.prettify())\n",
    "allrecipe=[]\n",
    "for item in soup.select('div[class=\"item-recipe\"] figcaption a'):\n",
    "    print(item.attrs['href'])\n",
    "    hasil_request = requests.get(item.attrs['href'])\n",
    "    allrecipe.append(BeautifulSoup(hasil_request.text, \"html.parser\"))"
   ]
  },
  {
   "cell_type": "code",
   "execution_count": 27,
   "metadata": {},
   "outputs": [
    {
     "name": "stdout",
     "output_type": "stream",
     "text": [
      "['Chicken Egg Roll Ala AJI‑NO‑MOTO®', 'Beef Yakiniku Ala Masako®', 'Pangsit Goreng Ala AJI‑NO‑MOTO®', 'Kulit Ayam Krispi Saus Telur Asin Ala Sajiku®', 'Ikan Tongkol Bumbu Rujak Ala AJI‑NO‑MOTO®', 'Jamur Crispy Asam Manis Ala Saori', 'Nasi Kepal Korea Ala Sajiku®', 'Salad Buah Mayo Ala Mayumi®', 'Jamur Crispy Saus Thai Ala Sajiku®', 'Pangsit Kuah Masako®']\n",
      "['\\nBahan Bahan\\n                            \\n                            \\n                            \\n                                                                                                120 gr Daging ayam \\n                                                                                                                                25 gr\\xa0 Wortel parut \\n                                                                                                                                50 gr Tahu\\xa0 \\n                                                                                                                                2 sdm\\xa0 Tapioka \\n                                                                                                                                1 sdt\\xa0 AJI-NO-MOTO® \\n                                                                                                                                1 sdm\\xa0 Gula pasir \\n                                                                                                                                ½ sdt\\xa0 Garam \\n                                                                                                                                2 btr\\xa0 Telur dadar \\n                                                                                                                                500 ml\\xa0 Minyak goreng \\n', '\\nBahan Bahan\\n                            \\n                            \\n                            \\n                                                                                                150 gr Daging sandung lamur, iris tipis \\n                                                                                                                                ¼ bks\\xa0 Masako® Rasa Sapi 10 gr \\n                                                                                                                                1 sdm\\xa0 Gula pasir \\n                                                                                                                                ¼ sdt Merica \\n                                                                                                                                50 ml\\xa0 Air \\n                                                                                                                                1 sdt\\xa0 Minyak wijen \\n                                                                                                                                2 sdm Minyak goreng \\n', '\\nBahan Bahan\\n                            \\n                            \\n                            \\n                                                                                                100 gr Daging ikan tenggiri \\n                                                                                                                                12 bh\\xa0 Kulit pangsit \\n                                                                                                                                100 gr\\xa0 Tapioka \\n                                                                                                                                1 sdt\\xa0 AJI-NO-MOTO® \\n                                                                                                                                1 sdm Gula pasir \\n                                                                                                                                ½ sdt\\xa0 Garam \\n                                                                                                                                50 gr\\xa0 Santan \\n                                                                                                                                1 btr\\xa0 Telur \\n                                                                                                                                1 siung\\xa0 Bawang merah \\n                                                                                                                                1 siung\\xa0 Bawang putih \\n                                                                                                                                500 ml\\xa0 Minyak goreng \\n                                                                                                                                Pelengkap : \\n                                                                                                                                2 sdm Air untuk merekatkan pangsit \\n', '\\nBahan Bahan\\n                            \\n                            \\n                            \\n                                                                                                100 gr Kulit ayam \\n                                                                                                                                1 bks Sajiku® Tepung Bumbu 80 gr \\n                                                                                                                                5 sdm Air es \\n                                                                                                                                600 ml Minyak goreng \\n                                                                                                                                Bahan saus : \\n                                                                                                                                2 bh\\xa0 Kuning telur asin \\n                                                                                                                                3 sdm\\xa0 Mentega \\n                                                                                                                                1 sdm\\xa0 Gula \\n                                                                                                                                1 lbr Daun jeruk \\n', '\\nBahan Bahan\\n                            \\n                            \\n                            \\n                                                                                                200 gr\\xa0 Ikan tongkol \\n                                                                                                                                300 ml\\xa0 Santan encer \\n                                                                                                                                1 sdt\\xa0 AJI-NO-MOTO® \\n                                                                                                                                ¼ sdt\\xa0 Garam \\n                                                                                                                                1 sdm\\xa0 Gula merah \\n                                                                                                                                3 bh\\xa0 Daun jeruk \\n                                                                                                                                3 sdm\\xa0 Minyak goreng \\n                                                                                                                                Bahan halus: \\n                                                                                                                                3 siung\\xa0 Bawang merah \\n                                                                                                                                3 siung\\xa0 Bawang putih \\n                                                                                                                                2 ruas\\xa0 Lengkuas \\n                                                                                                                                1 btg\\xa0 Sereh \\n                                                                                                                                2 btr\\xa0 Kemiri \\n                                                                                                                                3 bh\\xa0 Cabai merah \\n                                                                                                                                50 ml\\xa0 Air \\n', '\\nBahan Bahan\\n                            \\n                            \\n                            \\n                                                                                                80 gr Jamur tiram \\n                                                                                                                                50 gr\\xa0 Terigu \\n                                                                                                                                1 btr\\xa0 Telur \\n                                                                                                                                ½ sdt\\xa0 Garam \\n                                                                                                                                ¼ sdt\\xa0 Merica \\n                                                                                                                                3 sdm\\xa0 Air \\n                                                                                                                                500 ml Minyak goreng \\n                                                                                                                                Bahan saus: \\n                                                                                                                                150 ml\\xa0 Air \\n                                                                                                                                1 bks\\xa0 SAORI® Saus Asam Manis \\n                                                                                                                                ¼ bh\\xa0 Bawang Bombay \\n                                                                                                                                20 gr\\xa0 Wortel \\n', '\\nBahan Bahan\\n                            \\n                            \\n                            \\n                                                                                                300 gr Nasi pulen \\n                                                                                                                                1 bks\\xa0 Sajiku® Bumbu Nasi Goreng Rasa Ayam\\xa0 \\n                                                                                                                                1 bh\\xa0 Sosis ayam \\n                                                                                                                                50 gr\\xa0 Nanas \\n                                                                                                                                20 gr\\xa0 Wortel \\n                                                                                                                                ¼ bh Bombay cincang \\n                                                                                                                                1 btg Daun bawang \\n                                                                                                                                2 sdm Minyak goreng \\n                                                                                                                                ¼ lbr\\xa0 Irisan nori \\n', '\\nBahan Bahan\\n                            \\n                            \\n                            \\n                                                                                                100 gr\\xa0 Melon \\n                                                                                                                                100 gr\\xa0 Strawberry \\n                                                                                                                                1 bh\\xa0 Apel \\n                                                                                                                                100 gr\\xa0 Anggur \\n                                                                                                                                100 gr\\xa0 Jeruk \\n                                                                                                                                100 gr Jelly \\n                                                                                                                                50 gr Keju parut \\n                                                                                                                                Bahan saus: \\n                                                                                                                                1 bks Mayumi® 100 gr \\n                                                                                                                                2 sdm\\xa0 Yoghurt plain \\n                                                                                                                                7 sdm  Susu kental manis \\n                                                                                                                                100 ml Susu cair \\n', '\\nBahan Bahan\\n                            \\n                            \\n                            \\n                                                                                                80 gr Jamur enoki \\n                                                                                                                                1 bks Sajiku® Tepung Bumbu 80gr \\n                                                                                                                                100 ml Air \\n                                                                                                                                600 ml Minyak goreng \\n                                                                                                                                Bahan saus: \\n                                                                                                                                75 ml Air \\n                                                                                                                                1 sdm Cabai merah besar giling \\n                                                                                                                                1 sdm Gula pasir \\n                                                                                                                                ½ sdm Cuka \\n                                                                                                                                1 btg Daun ketumbar \\n                                                                                                                                ¼ sdt Garam \\n                                                                                                                                1 sdm Larutan maizena \\n', '\\nBahan Bahan\\n                            \\n                            \\n                            \\n                                                                                                50 gr Daging ayam cincang \\n                                                                                                                                100 gr Tahu \\n                                                                                                                                10 bh Kulit pangsit \\n                                                                                                                                50 gr Wortel \\n                                                                                                                                1 bks Masako® Rasa Ayam 10 gr \\n                                                                                                                                1 btg Daun bawang \\n                                                                                                                                1 btg Seledri \\n                                                                                                                                600 ml Air \\n']\n"
     ]
    }
   ],
   "source": [
    "alljudul=[]\n",
    "allbahan=[]\n",
    "for i in allrecipe:\n",
    "    judul = (i.find('h1')).text\n",
    "    bahan = i.select('div[class=\"ingredients-col\"]')\n",
    "    alljudul.append(judul)\n",
    "#     print(judul)\n",
    "    allbahan.append(bahan[0].text)\n",
    "#     print(bahan[0].text)\n",
    "#     print(\"=============================\")\n",
    "\n",
    "\n",
    "print(alljudul)\n",
    "print(allbahan)"
   ]
  },
  {
   "cell_type": "code",
   "execution_count": 30,
   "metadata": {},
   "outputs": [
    {
     "data": {
      "text/html": [
       "<div>\n",
       "<style scoped>\n",
       "    .dataframe tbody tr th:only-of-type {\n",
       "        vertical-align: middle;\n",
       "    }\n",
       "\n",
       "    .dataframe tbody tr th {\n",
       "        vertical-align: top;\n",
       "    }\n",
       "\n",
       "    .dataframe thead th {\n",
       "        text-align: right;\n",
       "    }\n",
       "</style>\n",
       "<table border=\"1\" class=\"dataframe\">\n",
       "  <thead>\n",
       "    <tr style=\"text-align: right;\">\n",
       "      <th></th>\n",
       "      <th>judul</th>\n",
       "      <th>bahan</th>\n",
       "    </tr>\n",
       "  </thead>\n",
       "  <tbody>\n",
       "    <tr>\n",
       "      <td>0</td>\n",
       "      <td>Chicken Egg Roll Ala AJI‑NO‑MOTO®</td>\n",
       "      <td>\\nBahan Bahan\\n                            \\n ...</td>\n",
       "    </tr>\n",
       "    <tr>\n",
       "      <td>1</td>\n",
       "      <td>Beef Yakiniku Ala Masako®</td>\n",
       "      <td>\\nBahan Bahan\\n                            \\n ...</td>\n",
       "    </tr>\n",
       "    <tr>\n",
       "      <td>2</td>\n",
       "      <td>Pangsit Goreng Ala AJI‑NO‑MOTO®</td>\n",
       "      <td>\\nBahan Bahan\\n                            \\n ...</td>\n",
       "    </tr>\n",
       "    <tr>\n",
       "      <td>3</td>\n",
       "      <td>Kulit Ayam Krispi Saus Telur Asin Ala Sajiku®</td>\n",
       "      <td>\\nBahan Bahan\\n                            \\n ...</td>\n",
       "    </tr>\n",
       "    <tr>\n",
       "      <td>4</td>\n",
       "      <td>Ikan Tongkol Bumbu Rujak Ala AJI‑NO‑MOTO®</td>\n",
       "      <td>\\nBahan Bahan\\n                            \\n ...</td>\n",
       "    </tr>\n",
       "    <tr>\n",
       "      <td>5</td>\n",
       "      <td>Jamur Crispy Asam Manis Ala Saori</td>\n",
       "      <td>\\nBahan Bahan\\n                            \\n ...</td>\n",
       "    </tr>\n",
       "    <tr>\n",
       "      <td>6</td>\n",
       "      <td>Nasi Kepal Korea Ala Sajiku®</td>\n",
       "      <td>\\nBahan Bahan\\n                            \\n ...</td>\n",
       "    </tr>\n",
       "    <tr>\n",
       "      <td>7</td>\n",
       "      <td>Salad Buah Mayo Ala Mayumi®</td>\n",
       "      <td>\\nBahan Bahan\\n                            \\n ...</td>\n",
       "    </tr>\n",
       "    <tr>\n",
       "      <td>8</td>\n",
       "      <td>Jamur Crispy Saus Thai Ala Sajiku®</td>\n",
       "      <td>\\nBahan Bahan\\n                            \\n ...</td>\n",
       "    </tr>\n",
       "    <tr>\n",
       "      <td>9</td>\n",
       "      <td>Pangsit Kuah Masako®</td>\n",
       "      <td>\\nBahan Bahan\\n                            \\n ...</td>\n",
       "    </tr>\n",
       "  </tbody>\n",
       "</table>\n",
       "</div>"
      ],
      "text/plain": [
       "                                           judul  \\\n",
       "0              Chicken Egg Roll Ala AJI‑NO‑MOTO®   \n",
       "1                      Beef Yakiniku Ala Masako®   \n",
       "2                Pangsit Goreng Ala AJI‑NO‑MOTO®   \n",
       "3  Kulit Ayam Krispi Saus Telur Asin Ala Sajiku®   \n",
       "4      Ikan Tongkol Bumbu Rujak Ala AJI‑NO‑MOTO®   \n",
       "5              Jamur Crispy Asam Manis Ala Saori   \n",
       "6                   Nasi Kepal Korea Ala Sajiku®   \n",
       "7                    Salad Buah Mayo Ala Mayumi®   \n",
       "8             Jamur Crispy Saus Thai Ala Sajiku®   \n",
       "9                           Pangsit Kuah Masako®   \n",
       "\n",
       "                                               bahan  \n",
       "0  \\nBahan Bahan\\n                            \\n ...  \n",
       "1  \\nBahan Bahan\\n                            \\n ...  \n",
       "2  \\nBahan Bahan\\n                            \\n ...  \n",
       "3  \\nBahan Bahan\\n                            \\n ...  \n",
       "4  \\nBahan Bahan\\n                            \\n ...  \n",
       "5  \\nBahan Bahan\\n                            \\n ...  \n",
       "6  \\nBahan Bahan\\n                            \\n ...  \n",
       "7  \\nBahan Bahan\\n                            \\n ...  \n",
       "8  \\nBahan Bahan\\n                            \\n ...  \n",
       "9  \\nBahan Bahan\\n                            \\n ...  "
      ]
     },
     "execution_count": 30,
     "metadata": {},
     "output_type": "execute_result"
    }
   ],
   "source": [
    "import pandas as pd\n",
    "\n",
    "kamus = {'judul' : alljudul, 'bahan': allbahan}\n",
    "data = pd.DataFrame(kamus)\n",
    "data"
   ]
  },
  {
   "cell_type": "code",
   "execution_count": 33,
   "metadata": {},
   "outputs": [
    {
     "data": {
      "text/plain": [
       "'\\nBahan Bahan\\n                            \\n                            \\n                            \\n                                                                                                120 gr Daging ayam \\n                                                                                                                                25 gr\\xa0 Wortel parut \\n                                                                                                                                50 gr Tahu\\xa0 \\n                                                                                                                                2 sdm\\xa0 Tapioka \\n                                                                                                                                1 sdt\\xa0 AJI-NO-MOTO® \\n                                                                                                                                1 sdm\\xa0 Gula pasir \\n                                                                                                                                ½ sdt\\xa0 Garam \\n                                                                                                                                2 btr\\xa0 Telur dadar \\n                                                                                                                                500 ml\\xa0 Minyak goreng \\n'"
      ]
     },
     "execution_count": 33,
     "metadata": {},
     "output_type": "execute_result"
    }
   ],
   "source": [
    "data.loc[0, 'bahan']"
   ]
  }
 ],
 "metadata": {
  "kernelspec": {
   "display_name": "Python 3",
   "language": "python",
   "name": "python3"
  },
  "language_info": {
   "codemirror_mode": {
    "name": "ipython",
    "version": 3
   },
   "file_extension": ".py",
   "mimetype": "text/x-python",
   "name": "python",
   "nbconvert_exporter": "python",
   "pygments_lexer": "ipython3",
   "version": "3.7.4"
  }
 },
 "nbformat": 4,
 "nbformat_minor": 2
}
